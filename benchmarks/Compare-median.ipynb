{
 "cells": [
  {
   "cell_type": "markdown",
   "id": "91502197-087f-486b-961e-02954bf4abb8",
   "metadata": {},
   "source": [
    "# Compare DRAGONS and banzai median\n",
    "\n",
    "## TODO: Update this!\n",
    "\n",
    "Accessing the DRAGONS median requires adding the following code in `gempy/library/cyclip.pyx` to make the median function accessible from Python:\n",
    "```\n",
    "@cython.boundscheck(False)\n",
    "@cython.wraparound(False)\n",
    "def cymedian(float [:] data, unsigned short [:] mask, int has_mask, int data_size):\n",
    "    return median(&data[0], &mask[0], has_mask, data_size)\n",
    "```"
   ]
  },
  {
   "cell_type": "code",
   "execution_count": null,
   "id": "54b6e2cb-811a-40f9-be80-a577ee52d5bc",
   "metadata": {
    "execution": {
     "iopub.status.busy": "2021-12-14T21:07:35.996528Z",
     "iopub.status.idle": "2021-12-14T21:07:35.997193Z",
     "shell.execute_reply": "2021-12-14T21:07:35.996930Z",
     "shell.execute_reply.started": "2021-12-14T21:07:35.996900Z"
    }
   },
   "outputs": [],
   "source": [
    "from banzai.utils.stats import median\n",
    "from gempy.library.cyclip import cymedian"
   ]
  },
  {
   "cell_type": "code",
   "execution_count": null,
   "id": "1ee6c5f0-d8cf-454a-9f04-f16e05214a6f",
   "metadata": {
    "execution": {
     "iopub.status.busy": "2021-12-14T21:07:35.999359Z",
     "iopub.status.idle": "2021-12-14T21:07:36.000116Z",
     "shell.execute_reply": "2021-12-14T21:07:35.999775Z",
     "shell.execute_reply.started": "2021-12-14T21:07:35.999738Z"
    }
   },
   "outputs": [],
   "source": [
    "# Right now DRAGONS' median is limited to 10000 elements\n",
    "data = np.random.randint(100, 1000, 10000).astype(np.float32)"
   ]
  },
  {
   "cell_type": "code",
   "execution_count": null,
   "id": "d124e9bd-d59e-4270-a938-016575f8be64",
   "metadata": {
    "execution": {
     "iopub.status.busy": "2021-12-14T21:07:36.002271Z",
     "iopub.status.idle": "2021-12-14T21:07:36.002903Z",
     "shell.execute_reply": "2021-12-14T21:07:36.002619Z",
     "shell.execute_reply.started": "2021-12-14T21:07:36.002592Z"
    }
   },
   "outputs": [],
   "source": [
    "np.median(data)"
   ]
  },
  {
   "cell_type": "code",
   "execution_count": null,
   "id": "4dff5c8a-da69-47ad-b711-d97d23312e88",
   "metadata": {
    "execution": {
     "iopub.status.busy": "2021-12-14T21:07:36.004435Z",
     "iopub.status.idle": "2021-12-14T21:07:36.005089Z",
     "shell.execute_reply": "2021-12-14T21:07:36.004816Z",
     "shell.execute_reply.started": "2021-12-14T21:07:36.004770Z"
    }
   },
   "outputs": [],
   "source": [
    "mask = np.zeros(data.shape, dtype=np.uint16)"
   ]
  },
  {
   "cell_type": "code",
   "execution_count": null,
   "id": "ba651daa-b82a-4665-a41e-18618d5d2ffe",
   "metadata": {
    "execution": {
     "iopub.status.busy": "2021-12-14T21:07:36.006894Z",
     "iopub.status.idle": "2021-12-14T21:07:36.007634Z",
     "shell.execute_reply": "2021-12-14T21:07:36.007308Z",
     "shell.execute_reply.started": "2021-12-14T21:07:36.007278Z"
    }
   },
   "outputs": [],
   "source": [
    "cymedian(data, mask, 0, data.shape[0])"
   ]
  },
  {
   "cell_type": "code",
   "execution_count": null,
   "id": "f0f3fdf9-6013-402e-b992-c8a156e41869",
   "metadata": {
    "execution": {
     "iopub.status.busy": "2021-12-14T21:07:36.010144Z",
     "iopub.status.idle": "2021-12-14T21:07:36.011158Z",
     "shell.execute_reply": "2021-12-14T21:07:36.010766Z",
     "shell.execute_reply.started": "2021-12-14T21:07:36.010720Z"
    }
   },
   "outputs": [],
   "source": [
    "median(data)"
   ]
  },
  {
   "cell_type": "code",
   "execution_count": null,
   "id": "d3c2f218-05b5-4f6a-ac80-70253835ac2a",
   "metadata": {
    "execution": {
     "iopub.status.busy": "2021-12-14T21:07:36.014001Z",
     "iopub.status.idle": "2021-12-14T21:07:36.014771Z",
     "shell.execute_reply": "2021-12-14T21:07:36.014448Z",
     "shell.execute_reply.started": "2021-12-14T21:07:36.014392Z"
    }
   },
   "outputs": [],
   "source": [
    "# DRAGONS require an uint16 mask even if we don't use this (3rd arg = 0)\n",
    "mask = np.zeros(data.shape, dtype=np.uint16)"
   ]
  },
  {
   "cell_type": "code",
   "execution_count": null,
   "id": "86b221aa-ea97-46d4-9118-caf11dc19157",
   "metadata": {
    "execution": {
     "iopub.status.busy": "2021-12-14T21:07:36.016857Z",
     "iopub.status.idle": "2021-12-14T21:07:36.017771Z",
     "shell.execute_reply": "2021-12-14T21:07:36.017372Z",
     "shell.execute_reply.started": "2021-12-14T21:07:36.017316Z"
    }
   },
   "outputs": [],
   "source": [
    "%timeit cymedian(data, mask, 0, data.shape[0])"
   ]
  },
  {
   "cell_type": "code",
   "execution_count": null,
   "id": "6f26a9f5-1de0-4fb3-b608-b559f2c577b7",
   "metadata": {
    "execution": {
     "iopub.status.busy": "2021-12-14T21:07:36.020220Z",
     "iopub.status.idle": "2021-12-14T21:07:36.020759Z",
     "shell.execute_reply": "2021-12-14T21:07:36.020556Z",
     "shell.execute_reply.started": "2021-12-14T21:07:36.020531Z"
    }
   },
   "outputs": [],
   "source": [
    "# Banzai will create a uint8 mask in any case so we give it instead\n",
    "mask = np.zeros(data.shape, dtype=np.uint8)"
   ]
  },
  {
   "cell_type": "code",
   "execution_count": null,
   "id": "3b312541-ecb3-4d58-aea2-ae8f50f408d0",
   "metadata": {
    "execution": {
     "iopub.status.busy": "2021-12-14T21:07:36.022432Z",
     "iopub.status.idle": "2021-12-14T21:07:36.022844Z",
     "shell.execute_reply": "2021-12-14T21:07:36.022645Z",
     "shell.execute_reply.started": "2021-12-14T21:07:36.022622Z"
    }
   },
   "outputs": [],
   "source": [
    "%timeit median(data, mask=mask)"
   ]
  },
  {
   "cell_type": "code",
   "execution_count": null,
   "id": "ae69f665-aa5b-4428-89a9-ad3b35f82575",
   "metadata": {
    "execution": {
     "iopub.status.busy": "2021-12-14T21:07:36.025569Z",
     "iopub.status.idle": "2021-12-14T21:07:36.026429Z",
     "shell.execute_reply": "2021-12-14T21:07:36.026050Z",
     "shell.execute_reply.started": "2021-12-14T21:07:36.026006Z"
    }
   },
   "outputs": [],
   "source": [
    "# Now try with masked values\n",
    "mask = np.zeros(data.shape, dtype=np.uint16)\n",
    "mask[np.random.randint(0, mask.shape[0] - 1, 100)] = 65535"
   ]
  },
  {
   "cell_type": "code",
   "execution_count": null,
   "id": "dfc36468-b16e-42f7-a82b-0c205604fe27",
   "metadata": {
    "execution": {
     "iopub.status.busy": "2021-12-14T21:07:36.028913Z",
     "iopub.status.idle": "2021-12-14T21:07:36.030163Z",
     "shell.execute_reply": "2021-12-14T21:07:36.029682Z",
     "shell.execute_reply.started": "2021-12-14T21:07:36.029627Z"
    }
   },
   "outputs": [],
   "source": [
    "cymedian(data, mask, 1, data.shape[0])"
   ]
  },
  {
   "cell_type": "code",
   "execution_count": null,
   "id": "cb2e2b2a-8bcd-4c50-96e8-32f490b6fc74",
   "metadata": {
    "execution": {
     "iopub.status.busy": "2021-12-14T21:07:36.032970Z",
     "iopub.status.idle": "2021-12-14T21:07:36.033993Z",
     "shell.execute_reply": "2021-12-14T21:07:36.033546Z",
     "shell.execute_reply.started": "2021-12-14T21:07:36.033498Z"
    }
   },
   "outputs": [],
   "source": [
    "median(data, mask=mask > 0)"
   ]
  },
  {
   "cell_type": "code",
   "execution_count": null,
   "id": "935db696-6bd5-4d68-a97a-0d682d52cb4f",
   "metadata": {
    "execution": {
     "iopub.status.busy": "2021-12-14T21:07:36.036722Z",
     "iopub.status.idle": "2021-12-14T21:07:36.037551Z",
     "shell.execute_reply": "2021-12-14T21:07:36.037185Z",
     "shell.execute_reply.started": "2021-12-14T21:07:36.037145Z"
    }
   },
   "outputs": [],
   "source": [
    "%timeit cymedian(data, mask, 1, data.shape[0])"
   ]
  },
  {
   "cell_type": "code",
   "execution_count": null,
   "id": "ac969990-e99e-4901-9ebc-c1b4224bb466",
   "metadata": {
    "execution": {
     "iopub.status.busy": "2021-12-14T21:07:36.039668Z",
     "iopub.status.idle": "2021-12-14T21:07:36.040615Z",
     "shell.execute_reply": "2021-12-14T21:07:36.040310Z",
     "shell.execute_reply.started": "2021-12-14T21:07:36.040264Z"
    }
   },
   "outputs": [],
   "source": [
    "mask = mask > 0"
   ]
  },
  {
   "cell_type": "code",
   "execution_count": null,
   "id": "3487da8a-4ff8-4806-a2de-01106961d297",
   "metadata": {
    "execution": {
     "iopub.status.busy": "2021-12-14T21:07:36.042556Z",
     "iopub.status.idle": "2021-12-14T21:07:36.043251Z",
     "shell.execute_reply": "2021-12-14T21:07:36.043005Z",
     "shell.execute_reply.started": "2021-12-14T21:07:36.042956Z"
    }
   },
   "outputs": [],
   "source": [
    "%timeit median(data, mask=mask)"
   ]
  }
 ],
 "metadata": {
  "kernelspec": {
   "display_name": "Python 3 (ipykernel)",
   "language": "python",
   "name": "python3"
  },
  "language_info": {
   "codemirror_mode": {
    "name": "ipython",
    "version": 3
   },
   "file_extension": ".py",
   "mimetype": "text/x-python",
   "name": "python",
   "nbconvert_exporter": "python",
   "pygments_lexer": "ipython3",
   "version": "3.9.4"
  }
 },
 "nbformat": 4,
 "nbformat_minor": 5
}
